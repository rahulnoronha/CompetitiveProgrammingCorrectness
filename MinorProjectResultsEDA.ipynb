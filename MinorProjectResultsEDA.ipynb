{
  "nbformat": 4,
  "nbformat_minor": 0,
  "metadata": {
    "colab": {
      "name": "MinorProjectResultsEDA.ipynb",
      "provenance": [],
      "collapsed_sections": [],
      "authorship_tag": "ABX9TyNRJTm9/ofnE1OPyrI+23Oh",
      "include_colab_link": true
    },
    "kernelspec": {
      "name": "python3",
      "display_name": "Python 3"
    },
    "language_info": {
      "name": "python"
    }
  },
  "cells": [
    {
      "cell_type": "markdown",
      "metadata": {
        "id": "view-in-github",
        "colab_type": "text"
      },
      "source": [
        "<a href=\"https://colab.research.google.com/github/rahulnoronha/CompetitiveProgrammingCorrectness/blob/main/MinorProjectResultsEDA.ipynb\" target=\"_parent\"><img src=\"https://colab.research.google.com/assets/colab-badge.svg\" alt=\"Open In Colab\"/></a>"
      ]
    },
    {
      "cell_type": "code",
      "metadata": {
        "id": "W3GxzdHxh8Sn"
      },
      "source": [
        "#Link to Data.csv https://drive.google.com/file/d/1G_YLc25YrjfFqvm-4SolhwL3A70NmR9b/view?usp=sharing\n",
        "#GitHub repository link of Data.csv: https://raw.githubusercontent.com/rahulnoronha/CompetitiveProgrammingCorrectness/main/problems/rahul/Results/Data.csv?token=AJRURW5HAD7OYOARD72ZCCDASGMHC"
      ],
      "execution_count": null,
      "outputs": []
    },
    {
      "cell_type": "code",
      "metadata": {
        "id": "U93zct7qpHZ5"
      },
      "source": [
        "#Importing necessary libraries\n",
        "import pandas as pd #For data processing.\n",
        "import numpy as np #For data processing.\n",
        "import seaborn as sns\n",
        "from matplotlib import pyplot as plt #For visualization.\n",
        "%matplotlib inline \n",
        "#To make the plots appear, and get stored within the Notebook Window."
      ],
      "execution_count": null,
      "outputs": []
    },
    {
      "cell_type": "code",
      "metadata": {
        "colab": {
          "base_uri": "https://localhost:8080/"
        },
        "id": "FbZVG7iApltm",
        "outputId": "8653f78c-cde7-4b35-edd9-d7c1a78451df"
      },
      "source": [
        "link = 'https://raw.githubusercontent.com/rahulnoronha/CompetitiveProgrammingCorrectness/main/problems/rahul/Results/Data.csv?token=AJRURW5HAD7OYOARD72ZCCDASGMHC'\n",
        "df = pd.read_csv(link)\n",
        "print(df)"
      ],
      "execution_count": null,
      "outputs": [
        {
          "output_type": "stream",
          "text": [
            "     Sl. No.             Problem Name  ... ext(y/n) Difficulty(b/e/m/h)\n",
            "0          1      PotatoesFarmerFeb.c  ...        n                   b\n",
            "1          2               ToyStory.c  ...        y                   x\n",
            "2          3         EncryptMessage.c  ...        y                   x\n",
            "3          4                EasyAbc.c  ...        n                   x\n",
            "4          5               Problem1.c  ...        y                   x\n",
            "..       ...                      ...  ...      ...                 ...\n",
            "95        96           CollegeLife4.c  ...        n                   b\n",
            "96        97           GuessItRight.c  ...        n                   e\n",
            "97        98       ChefAndHisFriend.c  ...        n                   e\n",
            "98        99  PalindromicSubstrings.c  ...        n                   b\n",
            "99       100            ChefJumping.c  ...        n                   e\n",
            "\n",
            "[100 rows x 13 columns]\n"
          ],
          "name": "stdout"
        }
      ]
    },
    {
      "cell_type": "code",
      "metadata": {
        "colab": {
          "base_uri": "https://localhost:8080/",
          "height": 297
        },
        "id": "i_heNxJDsGrO",
        "outputId": "c39537d1-a869-4a48-c2e7-8d977cfc3860"
      },
      "source": [
        "df.describe()"
      ],
      "execution_count": null,
      "outputs": [
        {
          "output_type": "execute_result",
          "data": {
            "text/html": [
              "<div>\n",
              "<style scoped>\n",
              "    .dataframe tbody tr th:only-of-type {\n",
              "        vertical-align: middle;\n",
              "    }\n",
              "\n",
              "    .dataframe tbody tr th {\n",
              "        vertical-align: top;\n",
              "    }\n",
              "\n",
              "    .dataframe thead th {\n",
              "        text-align: right;\n",
              "    }\n",
              "</style>\n",
              "<table border=\"1\" class=\"dataframe\">\n",
              "  <thead>\n",
              "    <tr style=\"text-align: right;\">\n",
              "      <th></th>\n",
              "      <th>Sl. No.</th>\n",
              "      <th>No. of Unique solutions</th>\n",
              "    </tr>\n",
              "  </thead>\n",
              "  <tbody>\n",
              "    <tr>\n",
              "      <th>count</th>\n",
              "      <td>100.000000</td>\n",
              "      <td>100.000000</td>\n",
              "    </tr>\n",
              "    <tr>\n",
              "      <th>mean</th>\n",
              "      <td>50.500000</td>\n",
              "      <td>3.120000</td>\n",
              "    </tr>\n",
              "    <tr>\n",
              "      <th>std</th>\n",
              "      <td>29.011492</td>\n",
              "      <td>0.755853</td>\n",
              "    </tr>\n",
              "    <tr>\n",
              "      <th>min</th>\n",
              "      <td>1.000000</td>\n",
              "      <td>2.000000</td>\n",
              "    </tr>\n",
              "    <tr>\n",
              "      <th>25%</th>\n",
              "      <td>25.750000</td>\n",
              "      <td>3.000000</td>\n",
              "    </tr>\n",
              "    <tr>\n",
              "      <th>50%</th>\n",
              "      <td>50.500000</td>\n",
              "      <td>3.000000</td>\n",
              "    </tr>\n",
              "    <tr>\n",
              "      <th>75%</th>\n",
              "      <td>75.250000</td>\n",
              "      <td>3.000000</td>\n",
              "    </tr>\n",
              "    <tr>\n",
              "      <th>max</th>\n",
              "      <td>100.000000</td>\n",
              "      <td>6.000000</td>\n",
              "    </tr>\n",
              "  </tbody>\n",
              "</table>\n",
              "</div>"
            ],
            "text/plain": [
              "          Sl. No.  No. of Unique solutions\n",
              "count  100.000000               100.000000\n",
              "mean    50.500000                 3.120000\n",
              "std     29.011492                 0.755853\n",
              "min      1.000000                 2.000000\n",
              "25%     25.750000                 3.000000\n",
              "50%     50.500000                 3.000000\n",
              "75%     75.250000                 3.000000\n",
              "max    100.000000                 6.000000"
            ]
          },
          "metadata": {
            "tags": []
          },
          "execution_count": 4
        }
      ]
    },
    {
      "cell_type": "code",
      "metadata": {
        "colab": {
          "base_uri": "https://localhost:8080/"
        },
        "id": "QGYyzuGcoOuz",
        "outputId": "f498c02b-0855-4d4f-881e-82f8a995946c"
      },
      "source": [
        "df.nunique()"
      ],
      "execution_count": null,
      "outputs": [
        {
          "output_type": "execute_result",
          "data": {
            "text/plain": [
              " Sl. No.                   100\n",
              "Problem Name                98\n",
              "Brute Force                  3\n",
              "CBMC                         2\n",
              "No. of Unique solutions      5\n",
              "unwind 1                     3\n",
              "unwind 2                     4\n",
              "unwind 3                     4\n",
              "unwind 4                     3\n",
              "unwind 5                     3\n",
              "unwind 10                    3\n",
              "ext(y/n)                     2\n",
              "Difficulty(b/e/m/h)          5\n",
              "dtype: int64"
            ]
          },
          "metadata": {
            "tags": []
          },
          "execution_count": 5
        }
      ]
    },
    {
      "cell_type": "code",
      "metadata": {
        "colab": {
          "base_uri": "https://localhost:8080/"
        },
        "id": "RC1ROWVEoURP",
        "outputId": "afd9eecc-58cb-485d-c3c8-90478bfc9962"
      },
      "source": [
        "for i in df.columns.values:\n",
        "    print(f'{i} :')\n",
        "    print(df[f'{i}'].unique(),'\\n\\n')"
      ],
      "execution_count": null,
      "outputs": [
        {
          "output_type": "stream",
          "text": [
            " Sl. No. :\n",
            "[  1   2   3   4   5   6   7   8   9  10  11  12  13  14  15  16  17  18\n",
            "  19  20  21  22  23  24  25  26  27  28  29  30  31  32  33  34  35  36\n",
            "  37  38  39  40  41  42  43  44  45  46  47  48  49  50  51  52  53  54\n",
            "  55  56  57  58  59  60  61  62  63  64  65  66  67  68  69  70  71  72\n",
            "  73  74  75  76  77  78  79  80  81  82  83  84  85  86  87  88  89  90\n",
            "  91  92  93  94  95  96  97  98  99 100] \n",
            "\n",
            "\n",
            "Problem Name :\n",
            "['PotatoesFarmerFeb.c' 'ToyStory.c' 'EncryptMessage.c' 'EasyAbc.c'\n",
            " 'Problem1.c' 'SumOfPalandromic.c' 'ArrangingTheNumbers.c'\n",
            " 'ChefAndSpecialNumbers.c' 'Buy1Get1.c' 'DistributeApples.c'\n",
            " 'WituaAndMath.c' 'CharlieAndPrimeNumbers.c' 'TomAndJerryGame.c'\n",
            " 'ChefAndKeyboard.c' 'CountingSubStrings.c' 'FriendOrGf' 'MaxxDif.c'\n",
            " 'DilemmaCards.c' 'SelfDestructingString.c' 'StrangeFunction.c'\n",
            " 'PenaltyShootOut.c' 'BeautifulGarland.c' 'Anagram.c' 'CookingMachine.c'\n",
            " 'CoinsAndTriangle.c' 'ChefAndKeyboard2.c' 'FlatLand.c' 'Problem2.c'\n",
            " 'Problem3.c' 'FireAndIce.c' 'CodeCrazyMinions.c' 'DistinctCode1.c'\n",
            " 'TestingRobot.c' 'ThreeLetters.c' 'LastDigitSum.c' 'ChefAndModuloGame.c'\n",
            " 'AndOperation.c ' 'ChefIsJustThrowingRandomWords.c ' 'ClimbingStairs.c'\n",
            " 'ChefAndSquares.c' 'ChefAndString.c' 'SimilarityNumber.c' 'Marbles.c'\n",
            " 'PhysicsClass.c' 'Player.c' 'SmallVolume.c' 'ChefAndFruits.c'\n",
            " 'RacingHorses.c' 'UncleJohny.c' 'MaximumCandies.c' 'MaximumCandies2.c'\n",
            " 'ChefAndChocolate.c' 'ChefAndBoardGames.c' 'ChefAndInterview.c'\n",
            " 'ChangAndThePerfectFunction.c' 'ABigSale.c' 'Factorial.c' 'CoinFlip.c'\n",
            " 'Caravans.c' 'CountingSubs.c' 'PayingUp.c' 'ChefAndDemonetisation.c'\n",
            " 'ChefAndStrangeFormula.c' 'JewelsAndStones.c' 'DistributeApples2.c'\n",
            " 'ChefAndDifficultContests.c' 'Chopsticks.c' 'ChefAndFeedback.c'\n",
            " 'MaximizeProduct.c' 'ChefAndTuples.c' 'MinimumAndMaximum.c\\xa0 \\xa0 \\xa0'\n",
            " 'ChefAndBipartiteGraphs.c' 'ConnectingSoldiers.c' 'DivisionCheck.c'\n",
            " 'CountingPrettyNumbers.c' 'TheBestBox.c' 'YourNameIsMyName.c'\n",
            " 'SubtractionGame.c' 'MagicPairs.c' 'LittleElephantAndBombs.c'\n",
            " 'AProblemOnSticks.c' 'AppyAndContest.c' 'Bread.c' 'PlayingWithGrids.c'\n",
            " 'DeleteAndFindSum.c' 'MultipleOfThree.c' 'GoodMedian.c' 'PleaseLikeMe.c'\n",
            " 'SurajGoesShopping.c' 'OddDivisors.c' 'ChefAndStones.c' 'WorldRecord.c'\n",
            " 'SplitSums.c' 'CollegeLife4.c' 'GuessItRight.c' 'ChefAndHisFriend.c'\n",
            " 'PalindromicSubstrings.c' 'ChefJumping.c'] \n",
            "\n",
            "\n",
            "Brute Force :\n",
            "['Success' 'Failure' 'Not Attempted'] \n",
            "\n",
            "\n",
            "CBMC :\n",
            "['Success' 'Failure'] \n",
            "\n",
            "\n",
            "No. of Unique solutions :\n",
            "[5 2 3 6 4] \n",
            "\n",
            "\n",
            "unwind 1 :\n",
            "['Success' 'te' 'Failure'] \n",
            "\n",
            "\n",
            "unwind 2 :\n",
            "['Success' 'x' 'te' 'Failure'] \n",
            "\n",
            "\n",
            "unwind 3 :\n",
            "['te' 'Failure' 'Success' 'x'] \n",
            "\n",
            "\n",
            "unwind 4 :\n",
            "['x' 'te' 'Success'] \n",
            "\n",
            "\n",
            "unwind 5 :\n",
            "['x' 'Success' 'te'] \n",
            "\n",
            "\n",
            "unwind 10 :\n",
            "['x' 'Success' 'te'] \n",
            "\n",
            "\n",
            "ext(y/n) :\n",
            "['n' 'y'] \n",
            "\n",
            "\n",
            "Difficulty(b/e/m/h) :\n",
            "['b' 'x' 'e' 'm' 'h'] \n",
            "\n",
            "\n"
          ],
          "name": "stdout"
        }
      ]
    },
    {
      "cell_type": "code",
      "metadata": {
        "id": "tCm_T1Xup2Tf"
      },
      "source": [
        "null_values = df.isnull().sum()"
      ],
      "execution_count": null,
      "outputs": []
    },
    {
      "cell_type": "code",
      "metadata": {
        "colab": {
          "base_uri": "https://localhost:8080/"
        },
        "id": "YUCoj4GeqC7P",
        "outputId": "b86d6631-4a7f-48ec-e9f6-2bc005ce3207"
      },
      "source": [
        "print(null_values)"
      ],
      "execution_count": null,
      "outputs": [
        {
          "output_type": "stream",
          "text": [
            " Sl. No.                   0\n",
            "Problem Name               0\n",
            "Brute Force                0\n",
            "CBMC                       0\n",
            "No. of Unique solutions    0\n",
            "unwind 1                   0\n",
            "unwind 2                   0\n",
            "unwind 3                   0\n",
            "unwind 4                   0\n",
            "unwind 5                   0\n",
            "unwind 10                  0\n",
            "ext(y/n)                   0\n",
            "Difficulty(b/e/m/h)        0\n",
            "dtype: int64\n"
          ],
          "name": "stdout"
        }
      ]
    },
    {
      "cell_type": "code",
      "metadata": {
        "colab": {
          "base_uri": "https://localhost:8080/"
        },
        "id": "KWurtESQqMGx",
        "outputId": "6e1b9177-4ac1-4426-fbef-fa66b7f5a134"
      },
      "source": [
        "#If the DataFrame has no Null values then we do not need to do any processing of Null values\n",
        "full_series = null_values[null_values==0]\n",
        "print(f'Number of headers actually present in data: {len(df.columns)}')\n",
        "print(f'Number of headers having 0 null values: {len(full_series)}')\n",
        "if (len(full_series)==len(null_values)):\n",
        "    print('Data frame has no null values, Exploratory Data Analysis can be continued:')\n",
        "else:\n",
        "  df = df.dropna(axis=0, how='any')#Drop any row (axis=0) which has one or more Null values (how= 'any').\n",
        "  print(df.to_markdown())#Print the data which has been formatted to not include anymore Null values and proceed to the further steps."
      ],
      "execution_count": null,
      "outputs": [
        {
          "output_type": "stream",
          "text": [
            "Number of headers actually present in data: 13\n",
            "Number of headers having 0 null values: 13\n",
            "Data frame has no null values, Exploratory Data Analysis can be continued:\n"
          ],
          "name": "stdout"
        }
      ]
    },
    {
      "cell_type": "markdown",
      "metadata": {
        "id": "EOrbO0cW6IAS"
      },
      "source": [
        "The below pairplot is irrelevant to as it doesn't really compare anything. Left out of Review ppt."
      ]
    },
    {
      "cell_type": "code",
      "metadata": {
        "colab": {
          "base_uri": "https://localhost:8080/",
          "height": 374
        },
        "id": "AbM44UyRrbr1",
        "outputId": "25dfc7c4-46dd-436b-da50-7b1ced96d6cd"
      },
      "source": [
        "sns.pairplot(df)\n",
        "plt.show()"
      ],
      "execution_count": null,
      "outputs": [
        {
          "output_type": "display_data",
          "data": {
            "image/png": "[encoded data removed]",
            "text/plain": [
              "<Figure size 360x360 with 6 Axes>"
            ]
          },
          "metadata": {
            "tags": [],
            "needs_background": "light"
          }
        }
      ]
    },
    {
      "cell_type": "code",
      "metadata": {
        "colab": {
          "base_uri": "https://localhost:8080/",
          "height": 313
        },
        "id": "XXdq1oSQqlIl",
        "outputId": "0b1d1127-43f9-4591-b871-6c81ea258c01"
      },
      "source": [
        "#Which type of problems are more in number? External Contest or Internal\n",
        "sns.countplot(x=df['ext(y/n)'],order=df['ext(y/n)'].value_counts().index)\n",
        "externalcount =len(df[df['ext(y/n)']=='y'])\n",
        "internalcount =len(df[df['ext(y/n)']=='n'])\n",
        "print(f'Percentage of External Contest Problems: {externalcount*100/(externalcount+internalcount)}')\n",
        "print(f'Percentage of CodeChef Internal Problems: {internalcount*100/(externalcount+internalcount)}')\n",
        "plt.show()"
      ],
      "execution_count": null,
      "outputs": [
        {
          "output_type": "stream",
          "text": [
            "Percentage of External Contest Problems: 24.0\n",
            "Percentage of CodeChef Internal Problems: 76.0\n"
          ],
          "name": "stdout"
        },
        {
          "output_type": "display_data",
          "data": {
            "image/png": "[encoded data removed]",
            "text/plain": [
              "<Figure size 432x288 with 1 Axes>"
            ]
          },
          "metadata": {
            "tags": [],
            "needs_background": "light"
          }
        }
      ]
    },
    {
      "cell_type": "markdown",
      "metadata": {
        "id": "Cg1yv2bir-Bq"
      },
      "source": [
        "### **We can make a conclusion that 76% of the problems we picked were from Codechef internal contests and 24% were from Ext contests** "
      ]
    },
    {
      "cell_type": "code",
      "metadata": {
        "colab": {
          "base_uri": "https://localhost:8080/",
          "height": 367
        },
        "id": "AwMV0tgetqye",
        "outputId": "13b49367-8ad9-4062-e711-b374c00407b7"
      },
      "source": [
        "#Which type of problems are more in number based on Difficulty? b-Beginner, e-Easy, m-Medium, h-Hard or x-Not classified \n",
        "sns.countplot(x=df['Difficulty(b/e/m/h)'],order=df['Difficulty(b/e/m/h)'].value_counts().index)\n",
        "unclassifiedcount =len(df[df['Difficulty(b/e/m/h)']=='x'])\n",
        "beginnercount =len(df[df['Difficulty(b/e/m/h)']=='b'])\n",
        "easycount =len(df[df['Difficulty(b/e/m/h)']=='e'])\n",
        "mediumcount =len(df[df['Difficulty(b/e/m/h)']=='m'])\n",
        "hardcount =len(df[df['Difficulty(b/e/m/h)']=='h'])\n",
        "totalcount = unclassifiedcount+beginnercount+easycount+mediumcount+hardcount\n",
        "print(f'Percentage of unclassified problems: {unclassifiedcount*100/totalcount}')\n",
        "print(f'Percentage of beginner problems: {beginnercount*100/totalcount}')\n",
        "print(f'Percentage of easy problems: {easycount*100/totalcount}')\n",
        "print(f'Percentage of medium problems: {mediumcount*100/totalcount}')\n",
        "print(f'Percentage of hard problems: {hardcount*100/totalcount}')\n",
        "plt.show()"
      ],
      "execution_count": null,
      "outputs": [
        {
          "output_type": "stream",
          "text": [
            "Percentage of unclassified problems: 25.0\n",
            "Percentage of beginner problems: 18.0\n",
            "Percentage of easy problems: 48.0\n",
            "Percentage of medium problems: 8.0\n",
            "Percentage of hard problems: 1.0\n"
          ],
          "name": "stdout"
        },
        {
          "output_type": "display_data",
          "data": {
            "image/png": "[encoded data removed]",
            "text/plain": [
              "<Figure size 432x288 with 1 Axes>"
            ]
          },
          "metadata": {
            "tags": [],
            "needs_background": "light"
          }
        }
      ]
    },
    {
      "cell_type": "code",
      "metadata": {
        "id": "fHcJwdBevsJ6"
      },
      "source": [
        ""
      ],
      "execution_count": null,
      "outputs": []
    },
    {
      "cell_type": "markdown",
      "metadata": {
        "id": "UGoZnn-Vv4AE"
      },
      "source": [
        "### **Most of the problems**(_48%_) **are of the level easy, followed by unclassified**(_18%_)"
      ]
    },
    {
      "cell_type": "code",
      "metadata": {
        "colab": {
          "base_uri": "https://localhost:8080/",
          "height": 286
        },
        "id": "1u5lzwDLwZCM",
        "outputId": "8e9e0617-6b4f-4b8c-c90e-d6acda5931b8"
      },
      "source": [
        "#We need to plot the pie chart of the Bruteforce approach.\n",
        "print('\\t\\t\\t  Brute Force Results')\n",
        "x = np.char.array(['Not Attempted','Success','Failure'])\n",
        "y = np.array([len(df[df['Brute Force']=='Not Attempted']),len(df[df['Brute Force']=='Success']),len(df[df['Brute Force']=='Failure']) ])\n",
        "colors = ['lightgray','green','red']\n",
        "porcent = 100.*y/y.sum()\n",
        "\n",
        "patches, texts = plt.pie(y, colors=colors, startangle=90, radius=1.2)\n",
        "labels = ['{0} - {1:1.2f} %'.format(i,j) for i,j in zip(x, porcent)]\n",
        "\n",
        "sort_legend = True\n",
        "if sort_legend:\n",
        "    patches, labels, dummy =  zip(*sorted(zip(patches, labels, y),\n",
        "                                          key=lambda x: x[2],\n",
        "                                          reverse=True))\n",
        "\n",
        "plt.legend(patches, labels, loc='center right', bbox_to_anchor=(-0.1, 1.),\n",
        "           fontsize=8)\n",
        "plt.show()"
      ],
      "execution_count": null,
      "outputs": [
        {
          "output_type": "stream",
          "text": [
            "\t\t\t  Brute Force Results\n"
          ],
          "name": "stdout"
        },
        {
          "output_type": "display_data",
          "data": {
            "image/png": "[encoded data removed]",
            "text/plain": [
              "<Figure size 432x288 with 1 Axes>"
            ]
          },
          "metadata": {
            "tags": []
          }
        }
      ]
    },
    {
      "cell_type": "code",
      "metadata": {
        "colab": {
          "base_uri": "https://localhost:8080/",
          "height": 286
        },
        "id": "ZBlKCDen2NNg",
        "outputId": "78441574-e369-4042-a9dc-bde81d8fbca6"
      },
      "source": [
        "#We need to plot the pie chart of the CBMC approach.\n",
        "print('\\t\\t\\t     CBMC Results')\n",
        "x = np.char.array(['Not Attempted','Success','Failure'])\n",
        "y = np.array([len(df[df['CBMC']=='Not Attempted']),len(df[df['CBMC']=='Success']),len(df[df['CBMC']=='Failure']) ])\n",
        "colors = ['lightgray','green','red']\n",
        "percent = 100.*y/y.sum()\n",
        "\n",
        "patches, texts = plt.pie(y, colors=colors, startangle=90, radius=1.2)\n",
        "labels = ['{0} - {1:1.2f} %'.format(i,j) for i,j in zip(x, percent)]\n",
        "\n",
        "sort_legend = True\n",
        "if sort_legend:\n",
        "    patches, labels, dummy =  zip(*sorted(zip(patches, labels, y),\n",
        "                                          key=lambda x: x[2],\n",
        "                                          reverse=True))\n",
        "\n",
        "plt.legend(patches, labels, loc='center right', bbox_to_anchor=(-0.1, 1.),\n",
        "           fontsize=8)\n",
        "plt.show()"
      ],
      "execution_count": null,
      "outputs": [
        {
          "output_type": "stream",
          "text": [
            "\t\t\t     CBMC Results\n"
          ],
          "name": "stdout"
        },
        {
          "output_type": "display_data",
          "data": {
            "image/png": "[encoded data removed]",
            "text/plain": [
              "<Figure size 432x288 with 1 Axes>"
            ]
          },
          "metadata": {
            "tags": []
          }
        }
      ]
    },
    {
      "cell_type": "markdown",
      "metadata": {
        "id": "MuJG3Z_16fZX"
      },
      "source": [
        "### Very few Bruteforce problems were attempted and out of the attempted ones, **66.67% succeeded, 33.33% failed**\n",
        "### All problems underwent CBMC testing/checking **58% Succeded, 42% failed**"
      ]
    },
    {
      "cell_type": "code",
      "metadata": {
        "colab": {
          "base_uri": "https://localhost:8080/",
          "height": 368
        },
        "id": "9Ejpjcb37CDK",
        "outputId": "55eed4a3-fa58-44f4-f4b5-00bf379f2673"
      },
      "source": [
        "\n",
        "### Plot the results in the external contests  in a pie chart\n",
        "new_df = df[df['ext(y/n)']=='y']\n",
        "print(f\"Number of successes in External contest: {len(new_df[new_df['CBMC']=='Success'])}\\nNumber of failures in External contest: {len(new_df[new_df['CBMC']=='Failure'])}\")\n",
        "plt.figure(figsize=(10,5))\n",
        "colors = ['green','red']\n",
        "sns.countplot(x=new_df['CBMC'], order=new_df['CBMC'].value_counts().index,palette=colors )\n",
        "plt.show()\n"
      ],
      "execution_count": null,
      "outputs": [
        {
          "output_type": "stream",
          "text": [
            "Number of successes in External contest: 14\n",
            "Number of failures in External contest: 10\n"
          ],
          "name": "stdout"
        },
        {
          "output_type": "display_data",
          "data": {
            "image/png": "[encoded data removed]",
            "text/plain": [
              "<Figure size 720x360 with 1 Axes>"
            ]
          },
          "metadata": {
            "tags": [],
            "needs_background": "light"
          }
        }
      ]
    },
    {
      "cell_type": "code",
      "metadata": {
        "colab": {
          "base_uri": "https://localhost:8080/",
          "height": 368
        },
        "id": "rNu-WOwa7oGF",
        "outputId": "954914d9-a676-4756-8d86-a4ccf85279ac"
      },
      "source": [
        "### Plot the results in the CodeChef internal problems  in a pie chart\n",
        "new_df1 = df[df['ext(y/n)']=='n']\n",
        "print(f\"Number of successes in Internal contest: {len(new_df1[new_df1['CBMC']=='Success'])}\\nNumber of failures in Internal contest: {len(new_df1[new_df1['CBMC']=='Failure'])}\")\n",
        "plt.figure(figsize=(10,5))\n",
        "colors = ['green','red']\n",
        "sns.countplot(x=new_df1['CBMC'], order=new_df1['CBMC'].value_counts().index,palette=colors )\n",
        "plt.show()\n"
      ],
      "execution_count": null,
      "outputs": [
        {
          "output_type": "stream",
          "text": [
            "Number of successes in Internal contest: 44\n",
            "Number of failures in Internal contest: 32\n"
          ],
          "name": "stdout"
        },
        {
          "output_type": "display_data",
          "data": {
            "image/png": "[encoded data removed]",
            "text/plain": [
              "<Figure size 720x360 with 1 Axes>"
            ]
          },
          "metadata": {
            "tags": [],
            "needs_background": "light"
          }
        }
      ]
    }
  ]
}